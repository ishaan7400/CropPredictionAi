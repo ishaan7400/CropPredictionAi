{
 "cells": [
  {
   "cell_type": "code",
   "execution_count": 1,
   "metadata": {},
   "outputs": [],
   "source": [
    "import flask\n",
    "from flask import Flask, render_template, request\n",
    "import pickle\n",
    "import numpy as np\n",
    "import os"
   ]
  },
  {
   "cell_type": "code",
   "execution_count": null,
   "metadata": {},
   "outputs": [
    {
     "name": "stdout",
     "output_type": "stream",
     "text": [
      " * Serving Flask app \"__main__\" (lazy loading)\n",
      " * Environment: production\n",
      "   WARNING: This is a development server. Do not use it in a production deployment.\n",
      "   Use a production WSGI server instead.\n",
      " * Debug mode: off\n"
     ]
    },
    {
     "name": "stderr",
     "output_type": "stream",
     "text": [
      " * Running on http://127.0.0.1:5000/ (Press CTRL+C to quit)\n",
      "127.0.0.1 - - [05/Jun/2021 17:15:48] \"\u001b[37mGET / HTTP/1.1\u001b[0m\" 200 -\n",
      "[2021-06-05 17:15:50,347] ERROR in app: Exception on /predict [POST]\n",
      "Traceback (most recent call last):\n",
      "  File \"C:\\Users\\admin\\Anaconda3\\lib\\site-packages\\flask\\app.py\", line 2446, in wsgi_app\n",
      "    response = self.full_dispatch_request()\n",
      "  File \"C:\\Users\\admin\\Anaconda3\\lib\\site-packages\\flask\\app.py\", line 1951, in full_dispatch_request\n",
      "    rv = self.handle_user_exception(e)\n",
      "  File \"C:\\Users\\admin\\Anaconda3\\lib\\site-packages\\flask\\app.py\", line 1820, in handle_user_exception\n",
      "    reraise(exc_type, exc_value, tb)\n",
      "  File \"C:\\Users\\admin\\Anaconda3\\lib\\site-packages\\flask\\_compat.py\", line 39, in reraise\n",
      "    raise value\n",
      "  File \"C:\\Users\\admin\\Anaconda3\\lib\\site-packages\\flask\\app.py\", line 1949, in full_dispatch_request\n",
      "    rv = self.dispatch_request()\n",
      "  File \"C:\\Users\\admin\\Anaconda3\\lib\\site-packages\\flask\\app.py\", line 1935, in dispatch_request\n",
      "    return self.view_functions[rule.endpoint](**req.view_args)\n",
      "  File \"<ipython-input-2-1309a6d2497a>\", line 24, in predict\n",
      "    pred = model.predict(arr)\n",
      "  File \"C:\\Users\\admin\\Anaconda3\\lib\\site-packages\\sklearn\\tree\\tree.py\", line 430, in predict\n",
      "    X = self._validate_X_predict(X, check_input)\n",
      "  File \"C:\\Users\\admin\\Anaconda3\\lib\\site-packages\\sklearn\\tree\\tree.py\", line 391, in _validate_X_predict\n",
      "    X = check_array(X, dtype=DTYPE, accept_sparse=\"csr\")\n",
      "  File \"C:\\Users\\admin\\Anaconda3\\lib\\site-packages\\sklearn\\utils\\validation.py\", line 496, in check_array\n",
      "    array = np.asarray(array, dtype=dtype, order=order)\n",
      "  File \"C:\\Users\\admin\\Anaconda3\\lib\\site-packages\\numpy\\core\\_asarray.py\", line 83, in asarray\n",
      "    return array(a, dtype, copy=False, order=order)\n",
      "ValueError: could not convert string to float: \n",
      "127.0.0.1 - - [05/Jun/2021 17:15:50] \"\u001b[1m\u001b[35mPOST /predict HTTP/1.1\u001b[0m\" 500 -\n",
      "127.0.0.1 - - [05/Jun/2021 17:16:12] \"\u001b[37mPOST /predict HTTP/1.1\u001b[0m\" 200 -\n"
     ]
    },
    {
     "name": "stdout",
     "output_type": "stream",
     "text": [
      "['kidneybeans']\n"
     ]
    },
    {
     "name": "stderr",
     "output_type": "stream",
     "text": [
      "127.0.0.1 - - [05/Jun/2021 17:24:08] \"\u001b[37mGET / HTTP/1.1\u001b[0m\" 200 -\n",
      "127.0.0.1 - - [05/Jun/2021 17:24:09] \"\u001b[37mGET /static/asd.jpg HTTP/1.1\u001b[0m\" 200 -\n",
      "127.0.0.1 - - [05/Jun/2021 17:24:09] \"\u001b[33mGET /favicon.ico HTTP/1.1\u001b[0m\" 404 -\n"
     ]
    }
   ],
   "source": [
    "model = pickle.load(open('crop.pkl', 'rb'))\n",
    "\n",
    "app = Flask(__name__)\n",
    "\n",
    "\n",
    "\n",
    "@app.route('/')\n",
    "def asdhm():\n",
    "    return render_template('index.html')\n",
    "\n",
    "\n",
    "@app.route('/predict', methods=['POST'])\n",
    "def predict():\n",
    "    data1 = request.form['a']\n",
    "    data2 = request.form['b']\n",
    "    data3 = request.form['c']\n",
    "    data4 = request.form['d']\n",
    "    data5 = request.form['e']\n",
    "    data6 = request.form['f']\n",
    "    data7 = request.form['g']\n",
    "    data8 = request.form['h']\n",
    "    arr = np.array([[data1, data2, data3, data4,data5,data6, data7, data8]])\n",
    "    #arr = np.array([[1,2,3,4,5,6,7,8]])\n",
    "    pred = model.predict(arr)\n",
    "    print(pred)\n",
    "    return render_template('ndd.html',data=pred[0])\n",
    "\n",
    "\n",
    "if __name__ == \"__main__\":\n",
    "    app.run(debug=False)\n",
    "\n",
    "  \n",
    "    "
   ]
  },
  {
   "cell_type": "code",
   "execution_count": null,
   "metadata": {},
   "outputs": [],
   "source": []
  }
 ],
 "metadata": {
  "kernelspec": {
   "display_name": "Python 3",
   "language": "python",
   "name": "python3"
  },
  "language_info": {
   "codemirror_mode": {
    "name": "ipython",
    "version": 3
   },
   "file_extension": ".py",
   "mimetype": "text/x-python",
   "name": "python",
   "nbconvert_exporter": "python",
   "pygments_lexer": "ipython3",
   "version": "3.7.4"
  }
 },
 "nbformat": 4,
 "nbformat_minor": 2
}
